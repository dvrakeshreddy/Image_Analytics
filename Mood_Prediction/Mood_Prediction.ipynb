{
 "cells": [
  {
   "cell_type": "code",
   "execution_count": 1,
   "metadata": {},
   "outputs": [],
   "source": [
    "import pandas as pd\n",
    "import numpy as np \n",
    "from skimage.feature import hog\n",
    "from sklearn import svm\n",
    "from sklearn.metrics import classification_report,accuracy_score\n",
    "from matplotlib import pyplot as plt"
   ]
  },
  {
   "cell_type": "code",
   "execution_count": 2,
   "metadata": {},
   "outputs": [],
   "source": [
    "data = pd.read_csv('input.csv',delimiter=',') # reading the csv file with , as the delimitor \n",
    "\n",
    "to_train = data.loc[data['Usage']=='Training',:] # Taking all instances (28,709) marked for as 'Training' for training data\n",
    "\n",
    "# Taking instances(7178) marked as 'PublicTest' and 'PrivateTest' for testing data\n",
    "to_test  = data.loc[np.logical_or(data['Usage']=='PublicTest', data['Usage']=='PrivateTest') ,:]\n",
    "\n",
    "# dataset consists of 48x48 pixel gray scale images of faces.\n",
    "# Splitting the image pixel data (separated by space) into dataframe with 2304 columns and changing the data type to 'int' \n",
    "train_X = np.array(to_train.iloc[:,1].str.split(expand=True).astype('int')) # train images data--train_X .shape -- (28709, 2304)\n",
    "test_X =  np.array(to_test.iloc[:,1].str.split(expand=True).astype('int')) # test images data -- test_X .shape -- (7178, 2304)\n",
    "\n",
    "train_Y = np.array(to_train.iloc[:,0]) # training labels -- train_Y.shape -- (28709,)\n",
    "test_Y =  np.array(to_test.iloc[:,0]) # testing labels -- test_Y.shape -- (7178,)\n"
   ]
  },
  {
   "cell_type": "markdown",
   "metadata": {},
   "source": [
    "# Parameter selection for HOG features \n",
    "\n",
    "The dataset provided consists of 48x48 pixel gray scale images of faces -- 48x48 =  2304 pixel data/features \n",
    "\n",
    "The agenda is to extract meaningful features of this 2304 and reduce the dimensional space.\n",
    "\n",
    "Parameters:\n",
    "1. pixels per cell  = 8 \n",
    "        The 48x48 is divided into cells of 8x8 \n",
    "2. Orientaions = 9 \n",
    "        The  gradient orientation is quantisized into 9 bins\n",
    "3. Cells per block = 2x2 \n",
    "        The block size of 2x2 is selected for normalisation\n",
    "    \n",
    "Total No. of Features = (5x5)x(2x2)x(9) = 900 HOG features\n",
    "\n",
    "2034 features of the origianl image are reduced to 900 HOG features ( Achieved around 60% reduction in the  dimensional space )\n",
    "\n",
    "These reduced dimensions can be fed to the classifer for training.\n"
   ]
  },
  {
   "cell_type": "code",
   "execution_count": 3,
   "metadata": {},
   "outputs": [
    {
     "name": "stderr",
     "output_type": "stream",
     "text": [
      "C:\\Users\\Rakesh Reddy\\Anaconda3\\lib\\site-packages\\skimage\\feature\\_hog.py:248: skimage_deprecation: Argument `visualise` is deprecated and will be changed to `visualize` in v0.16\n",
      "  'be changed to `visualize` in v0.16', skimage_deprecation)\n"
     ]
    },
    {
     "name": "stdout",
     "output_type": "stream",
     "text": [
      "No of HOG features extracted out of an image: 900\n"
     ]
    }
   ],
   "source": [
    "ppc = 8 # setting pixels per cell \n",
    "\n",
    "# Extracting HOG fetures out of train images \n",
    "\n",
    "hog_images_train = []\n",
    "hog_features_train = []\n",
    "\n",
    "for image in train_X:\n",
    "    image = image.reshape(48,48) # reshaping image pixel data into 48x48\n",
    "    fd,hog_image = hog(image, orientations=9, pixels_per_cell=(ppc,ppc),cells_per_block=(2,2),block_norm= 'L2',visualise=True)\n",
    "    hog_images_train.append(hog_image)\n",
    "    hog_features_train.append(fd)\n",
    "\n",
    "hog_features_train = np.array(hog_features_train) # converting them into a numpy array\n",
    "#Saving float till 6 digits to reduce the size of the file\n",
    "np.savetxt(\"HOG_train.csv\", hog_features_train,fmt=\"%.6f\",delimiter=\",\") # saving the HOG features of train images to a csv file\n",
    "\n",
    "\n",
    "# Extracting HOG fetures out of test images \n",
    "\n",
    "hog_images_test = []\n",
    "hog_features_test = []\n",
    "\n",
    "for image in test_X:\n",
    "    image = image.reshape(48,48)\n",
    "    fd,hog_image = hog(image, orientations=9, pixels_per_cell=(ppc,ppc),cells_per_block=(2,2),block_norm= 'L2',visualise=True)\n",
    "    hog_images_test.append(hog_image)\n",
    "    hog_features_test.append(fd)\n",
    "\n",
    "hog_features_test= np.array(hog_features_test)\n",
    "#Saving float till 6 digits to reduce the size of the file\n",
    "np.savetxt(\"HOG_test.csv\", hog_features_test,fmt=\"%.6f\",delimiter=\",\") # saving the HOG features of test images to a csv file\n",
    "\n",
    "\n",
    "print('No of HOG features extracted out of an image:', len(hog_features_train[1]))"
   ]
  },
  {
   "cell_type": "code",
   "execution_count": 4,
   "metadata": {},
   "outputs": [
    {
     "data": {
      "text/plain": [
       "<matplotlib.image.AxesImage at 0x24e814e8908>"
      ]
     },
     "execution_count": 4,
     "metadata": {},
     "output_type": "execute_result"
    },
    {
     "data": {
      "image/png": "[encoded data removed]",
      "text/plain": [
       "<Figure size 576x288 with 2 Axes>"
      ]
     },
     "metadata": {
      "needs_background": "light"
     },
     "output_type": "display_data"
    }
   ],
   "source": [
    "#Visualising a sample image and its HOG features \n",
    "fig, (ax1, ax2) = plt.subplots(1, 2, figsize=(8, 4), sharex=True, sharey=True)\n",
    "ax1.axis('off')\n",
    "ax1.imshow(train_X[1].reshape(48,48))\n",
    "ax2.axis('off')\n",
    "ax2.imshow(hog_images_train[1])"
   ]
  },
  {
   "cell_type": "code",
   "execution_count": 5,
   "metadata": {},
   "outputs": [],
   "source": [
    "# Setting training data and testing data --  HOG features & Class labels respectively -- to feed to a classifier\n",
    "x_train, x_test = hog_features_train , hog_features_test\n",
    "y_train, y_test = train_Y , test_Y"
   ]
  },
  {
   "cell_type": "code",
   "execution_count": 6,
   "metadata": {},
   "outputs": [
    {
     "name": "stderr",
     "output_type": "stream",
     "text": [
      "C:\\Users\\Rakesh Reddy\\Anaconda3\\lib\\site-packages\\sklearn\\svm\\base.py:196: FutureWarning: The default value of gamma will change from 'auto' to 'scale' in version 0.22 to account better for unscaled features. Set gamma explicitly to 'auto' or 'scale' to avoid this warning.\n",
      "  \"avoid this warning.\", FutureWarning)\n"
     ]
    },
    {
     "data": {
      "text/plain": [
       "SVC(C=1.0, cache_size=200, class_weight=None, coef0=0.0,\n",
       "  decision_function_shape='ovr', degree=3, gamma='auto_deprecated',\n",
       "  kernel='rbf', max_iter=-1, probability=False, random_state=None,\n",
       "  shrinking=True, tol=0.001, verbose=False)"
      ]
     },
     "execution_count": 6,
     "metadata": {},
     "output_type": "execute_result"
    }
   ],
   "source": [
    "clf = svm.SVC()  # creating an SVM classifier \n",
    "clf.fit(x_train,y_train)  # training the classifier "
   ]
  },
  {
   "cell_type": "code",
   "execution_count": 7,
   "metadata": {},
   "outputs": [
    {
     "name": "stdout",
     "output_type": "stream",
     "text": [
      "Shape of predicted labels(y_pred):  (7178,)\n"
     ]
    }
   ],
   "source": [
    "y_pred_test = clf.predict(x_test)  # predicting labels using the test data\n",
    "print('Shape of predicted labels(y_pred): ',y_pred_test.shape)  # matches with 7178 instances fed as test data "
   ]
  },
  {
   "cell_type": "code",
   "execution_count": 8,
   "metadata": {},
   "outputs": [
    {
     "name": "stdout",
     "output_type": "stream",
     "text": [
      "Accuracy for test data:  0.8057954862078573\n",
      "\n",
      "\n",
      "Classification report for test data: \n",
      " \n",
      "               precision    recall  f1-score   support\n",
      "\n",
      "           0       0.80      0.99      0.88      5404\n",
      "           1       0.87      0.25      0.39      1774\n",
      "\n",
      "   micro avg       0.81      0.81      0.81      7178\n",
      "   macro avg       0.84      0.62      0.64      7178\n",
      "weighted avg       0.82      0.81      0.76      7178\n",
      "\n"
     ]
    }
   ],
   "source": [
    "print(\"Accuracy for test data: \",(accuracy_score(y_test, y_pred_test)))  # Accuracy of prediction\n",
    "print('\\n')\n",
    "\n",
    "# Classification report with precision, recall & f1-score \n",
    "print('Classification report for test data:','\\n','\\n',classification_report(y_test, y_pred_test)) "
   ]
  },
  {
   "cell_type": "code",
   "execution_count": 9,
   "metadata": {},
   "outputs": [],
   "source": [
    "# Saving test set result\n",
    "index_test = np.array(to_test.iloc[:,0].index) # Extracting indexes (row or image number) for test instances\n",
    "test_output = np.array((y_pred_test,index_test),dtype='int').T\n",
    "\n",
    "np.savetxt(\"test_result.csv\", test_output,fmt='%i',delimiter=\",\")"
   ]
  },
  {
   "cell_type": "code",
   "execution_count": 10,
   "metadata": {},
   "outputs": [
    {
     "name": "stdout",
     "output_type": "stream",
     "text": [
      "Accuracy for train data:  0.7998188721306907\n",
      "\n",
      "\n",
      "Classification report for train data: \n",
      " \n",
      "               precision    recall  f1-score   support\n",
      "\n",
      "           0       0.80      0.99      0.88     21494\n",
      "           1       0.86      0.24      0.38      7215\n",
      "\n",
      "   micro avg       0.80      0.80      0.80     28709\n",
      "   macro avg       0.83      0.61      0.63     28709\n",
      "weighted avg       0.81      0.80      0.75     28709\n",
      "\n"
     ]
    }
   ],
   "source": [
    "y_pred_train = clf.predict(x_train) \n",
    "print(\"Accuracy for train data: \",(accuracy_score(y_train, y_pred_train)))  # Accuracy of prediction\n",
    "print('\\n')\n",
    "\n",
    "# Classification report with precision, recall & f1-score \n",
    "print('Classification report for train data:','\\n','\\n',classification_report(y_train, y_pred_train)) "
   ]
  }
 ],
 "metadata": {
  "kernelspec": {
   "display_name": "Python 3",
   "language": "python",
   "name": "python3"
  },
  "language_info": {
   "codemirror_mode": {
    "name": "ipython",
    "version": 3
   },
   "file_extension": ".py",
   "mimetype": "text/x-python",
   "name": "python",
   "nbconvert_exporter": "python",
   "pygments_lexer": "ipython3",
   "version": "3.7.3"
  }
 },
 "nbformat": 4,
 "nbformat_minor": 2
}
